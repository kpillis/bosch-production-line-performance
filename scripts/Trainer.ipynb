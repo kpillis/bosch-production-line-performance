{
 "cells": [
  {
   "cell_type": "code",
   "execution_count": 1,
   "metadata": {
    "collapsed": false
   },
   "outputs": [],
   "source": [
    "import pandas as pd\n",
    "import numpy as np\n",
    "from sklearn.ensemble import RandomForestClassifier\n",
    "from IPython.display import clear_output\n",
    "import pickle\n",
    "\n",
    "#common utilities for transforming data\n",
    "from commons import Utilities\n",
    "utils = Utilities()"
   ]
  },
  {
   "cell_type": "code",
   "execution_count": 2,
   "metadata": {
    "collapsed": false
   },
   "outputs": [
    {
     "name": "stdout",
     "output_type": "stream",
     "text": [
      "101 percent\n"
     ]
    }
   ],
   "source": [
    "print(\"Finding medians of columns in chunks...\")\n",
    "medians=[]\n",
    "\n",
    "filename='../input/train_numeric.csv'\n",
    "chunknum = 0\n",
    "for chunk in pd.read_csv(filename, header=0, chunksize=200000):\n",
    "    median_chunk = Utilities.findNa(utils,chunk,chunknum)\n",
    "    medians.append(median_chunk)\n",
    "    chunknum = chunknum +1\n",
    "    clear_output()\n",
    "    print(\"%d percent\" % int((chunknum*200000/1183748)*100))\n",
    "    \n",
    "medians = pd.DataFrame(medians)\n"
   ]
  },
  {
   "cell_type": "code",
   "execution_count": 4,
   "metadata": {
    "collapsed": true
   },
   "outputs": [],
   "source": [
    "pickle.dump( medians, open( \"../exported/medians.p\", \"wb\" ) )"
   ]
  },
  {
   "cell_type": "code",
   "execution_count": 3,
   "metadata": {
    "collapsed": false
   },
   "outputs": [
    {
     "name": "stdout",
     "output_type": "stream",
     "text": [
      "101 percent\n"
     ]
    }
   ],
   "source": [
    "#Train\n",
    "models=[]\n",
    "def train(df):\n",
    "    print(\"Filling missing data with median values...\")\n",
    "    df = utils.normalize_data_w_medians(df,medians)\n",
    "    df['Id2'] = df['Id'] \n",
    "    print(\"Preparing data for training...\")\n",
    "    X = df.drop(['Id','Response'],axis=1)\n",
    "    y = df['Response']\n",
    "    \n",
    "    # Random Forests \n",
    "    model = RandomForestClassifier(n_estimators=100)\n",
    "    print(\"Training...\")\n",
    "    model.fit(X,y)\n",
    "    models.append(model)\n",
    "\n",
    "print(\"Reading train data into memory in chunks...\")\n",
    "chunknum = 0\n",
    "for chunk in pd.read_csv('../input/train_numeric.csv', header=0, chunksize=200000):\n",
    "    train(chunk)\n",
    "    chunknum = chunknum +1\n",
    "    clear_output()\n",
    "    print(\"%d percent\" % int((chunknum*200000/1183748)*100))\n",
    "pickle.dump( models, open( \"../exported/models.p\", \"wb\" ) )"
   ]
  }
 ],
 "metadata": {
  "anaconda-cloud": {},
  "kernelspec": {
   "display_name": "Python [conda root]",
   "language": "python",
   "name": "conda-root-py"
  },
  "language_info": {
   "codemirror_mode": {
    "name": "ipython",
    "version": 3
   },
   "file_extension": ".py",
   "mimetype": "text/x-python",
   "name": "python",
   "nbconvert_exporter": "python",
   "pygments_lexer": "ipython3",
   "version": "3.5.2"
  }
 },
 "nbformat": 4,
 "nbformat_minor": 1
}
