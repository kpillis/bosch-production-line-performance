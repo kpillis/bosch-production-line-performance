{
 "cells": [
  {
   "cell_type": "code",
   "execution_count": 1,
   "metadata": {
    "collapsed": false,
    "scrolled": true
   },
   "outputs": [],
   "source": [
    "%matplotlib inline\n",
    "import pandas as pd\n",
    "import numpy as np\n",
    "from sklearn.ensemble import RandomForestClassifier\n",
    "from IPython.display import clear_output\n",
    "import pickle\n",
    "\n",
    "\n",
    "# For .read_csv, always use header=0 when you know row 0 is the header row\n",
    "#Selecting first n rows of numerical data"
   ]
  },
  {
   "cell_type": "code",
   "execution_count": 2,
   "metadata": {
    "collapsed": true
   },
   "outputs": [],
   "source": [
    "def normalizeNone(val):\n",
    "    if np.isnan(val):\n",
    "        return 0\n",
    "    else:\n",
    "        return val\n",
    "\n",
    "def normalize_data(dataFrame):\n",
    "    for column in dataFrame:\n",
    "        dataFrame[column] = dataFrame[column].fillna(normalizeNone(dataFrame[column].dropna().median()))\n",
    "    return dataFrame\n",
    "\n",
    "def normalize_data_w_medians(dataFrame,medians):\n",
    "    for column in dataFrame:\n",
    "        dataFrame[column] = dataFrame[column].fillna(normalizeNone(medians[column].dropna().mean()))\n",
    "    return dataFrame\n",
    "\n",
    "def findNa(data_frame,chunknum):    \n",
    "    median_row={}\n",
    "    for column in data_frame:    \n",
    "        median_row[column] = normalizeNone(data_frame[column].dropna().median())\n",
    "    return median_row\n",
    "    \n",
    "def addNanDummies(data_frame):\n",
    "    for column in data_frame:\n",
    "        data_frame[column+\"_isNan\"]=data_frame[column].map(lambda x: 1 if np.isnan(x) else 0)\n",
    "    return data_frame\n",
    "\n",
    "def convertToBinary(data_frame):\n",
    "    for column in data_frame:\n",
    "        if(column != 'Id'):\n",
    "            data_frame[column]=data_frame[column].map(lambda x: 1 if np.isnan(x) else 0)\n",
    "    return data_frame\n",
    "\n",
    "def dateColumnToNumerical(column_name):\n",
    "    columnParts = column_name.split('_')\n",
    "    lastPart = columnParts[2].split('D')\n",
    "    columnParts[2] = 'F'+str(int(lastPart[1])-1)\n",
    "    return '_'.join(columnParts)\n",
    "\n",
    "def numColumnToDate(column_name):\n",
    "    columnParts = column_name.split('_')\n",
    "    lastPart = columnParts[2].split('F')\n",
    "    columnParts[2] = 'D'+str(int(lastPart[1])+1)\n",
    "    return '_'.join(columnParts)"
   ]
  },
  {
   "cell_type": "code",
   "execution_count": null,
   "metadata": {
    "collapsed": false
   },
   "outputs": [],
   "source": [
    "filename='../input/train_date.csv'\n",
    "chunknum = 0\n",
    "for chunk in pd.read_csv(filename, header=0, chunksize=200000):\n",
    "    chunk = convertToBinary(chunk)\n",
    "    with open('../train_date_bin.csv', 'a') as f:\n",
    "        if(chunknum == 0):\n",
    "            chunk.to_csv(f, header=True, index=False)\n",
    "        else:\n",
    "            chunk.to_csv(f, header=False, index=False)\n",
    "    chunknum = chunknum +1\n",
    "    clear_output()\n",
    "    print(\"%d percent\" % int((chunknum*100000/1183748)*100))"
   ]
  },
  {
   "cell_type": "code",
   "execution_count": null,
   "metadata": {
    "collapsed": false
   },
   "outputs": [],
   "source": [
    "#Merging the dataframes as they should be treated together\n",
    "#df = pd.concat([df_num,df_date,df_cat])\n",
    "#df_test = pd.concat([df_num_test,df_date_test,df_cat_test])\n",
    "#df = df_num\n",
    "#df_test = df_num_test\n",
    "\n",
    "print(\"Finding medians of columns in chunks...\")\n",
    "medians=[]\n",
    "\n",
    "filename='../input/train_numeric.csv'\n",
    "chunknum = 0\n",
    "for chunk in pd.read_csv(filename, header=0, chunksize=200000):\n",
    "    #chunk = addNanDummies(chunk)\n",
    "    median_chunk = findNa(chunk,chunknum)\n",
    "    medians.append(median_chunk)\n",
    "    chunknum = chunknum +1\n",
    "    clear_output()\n",
    "    print(\"%d percent\" % int((chunknum*200000/1183748)*100))\n",
    "    \n",
    "medians = pd.DataFrame(medians)\n",
    "pickle.dump( medians, open( \"../medians.p\", \"wb\" ) )"
   ]
  },
  {
   "cell_type": "code",
   "execution_count": null,
   "metadata": {
    "collapsed": false
   },
   "outputs": [],
   "source": [
    "'''\n",
    "filename='../input/train_categorical.csv'\n",
    "chunknum = 1\n",
    "columns = set()\n",
    "for chunk in pd.read_csv(filename, header=0, chunksize=10000):\n",
    "    for column in chunk.drop(['Id'],axis=1):\n",
    "        uniqueVals = chunk[column].dropna().unique()\n",
    "        for val in uniqueVals:\n",
    "            columns.add(val)\n",
    "    print(\"%d percent\" % int((chunknum*10000/1183748)*100))\n",
    "    chunknum = chunknum +1\n",
    "columns\n",
    "'''"
   ]
  },
  {
   "cell_type": "code",
   "execution_count": 4,
   "metadata": {
    "collapsed": false
   },
   "outputs": [],
   "source": [
    "medians = pickle.load( open( \"../medians.p\", \"rb\" ) )"
   ]
  },
  {
   "cell_type": "code",
   "execution_count": null,
   "metadata": {
    "collapsed": false
   },
   "outputs": [],
   "source": [
    "#Train\n",
    "models=[]\n",
    "def train(df):\n",
    "    print(\"Filling missing data with median values...\")\n",
    "    df = normalize_data_w_medians(df,medians)\n",
    "    df['Id2'] = df['Id'] \n",
    "    print(\"Preparing data for training...\")\n",
    "    X = df.drop(['Id','Response'],axis=1)\n",
    "    #X = X.drop(['Id_isNan','Response_isNan'],axis=1)\n",
    "    y = df['Response']\n",
    "    \n",
    "    # Random Forests \n",
    "    model = RandomForestClassifier(n_estimators=100)\n",
    "    print(\"Training...\")\n",
    "    model.fit(X,y)\n",
    "    models.append(model)\n",
    "\n",
    "print(\"Reading train data into memory in chunks...\")\n",
    "chunknum = 0\n",
    "for chunk in pd.read_csv('../input/train_numeric.csv', header=0, chunksize=200000):\n",
    "    #print(\"Adding dummy columns based on missing data...\")\n",
    "    #chunk = addNanDummies(chunk)\n",
    "    train(chunk)\n",
    "    chunknum = chunknum +1\n",
    "    clear_output()\n",
    "    print(\"%d percent\" % int((chunknum*200000/1183748)*100))\n",
    "pickle.dump( models, open( \"../models.p\", \"wb\" ) )"
   ]
  },
  {
   "cell_type": "code",
   "execution_count": 3,
   "metadata": {
    "collapsed": true
   },
   "outputs": [],
   "source": [
    "models = pickle.load( open( \"../models.p\", \"rb\" ) )"
   ]
  },
  {
   "cell_type": "code",
   "execution_count": 5,
   "metadata": {
    "collapsed": false
   },
   "outputs": [
    {
     "name": "stdout",
     "output_type": "stream",
     "text": [
      "101 percent\n"
     ]
    }
   ],
   "source": [
    "#Predict and write to file\n",
    "\n",
    "submissions = []\n",
    "\n",
    "def process(df_test,firstChunk,models):\n",
    "    df_test = normalize_data_w_medians(df_test,medians)\n",
    "    df_test['Id2'] = df_test['Id']\n",
    "    X_test = df_test.drop(['Id'],axis=1)\n",
    "    #X_test = X_test.drop(['Id_isNan'],axis=1)\n",
    "    for model in models:\n",
    "        y_pred = model.predict(X_test)\n",
    "        submission = pd.DataFrame({\n",
    "            \"Id\":df_test['Id'],\n",
    "            \"Response\":y_pred\n",
    "        })\n",
    "        sub_index=models.index(model)\n",
    "        print(sub_index/len(models))\n",
    "        if(firstChunk):\n",
    "            submissions.append(submission)\n",
    "        else:\n",
    "            submissions[sub_index]=pd.concat([submissions[sub_index],submission])\n",
    "\n",
    "print(\"Evaluating test data...\")\n",
    "        \n",
    "filename='../input/test_numeric.csv'\n",
    "chunknum = 0\n",
    "for chunk in pd.read_csv(filename, header=0, chunksize=100000):\n",
    "    #chunk = addNanDummies(chunk)\n",
    "    process(chunk, chunknum == 0,models)\n",
    "    chunknum = chunknum +1\n",
    "    clear_output()\n",
    "    print(\"%d percent\" % int((chunknum*100000/1183748)*100))"
   ]
  },
  {
   "cell_type": "code",
   "execution_count": 6,
   "metadata": {
    "collapsed": true
   },
   "outputs": [],
   "source": [
    "pickle.dump( submissions, open( \"../submissions.p\", \"wb\" ) )"
   ]
  },
  {
   "cell_type": "code",
   "execution_count": 10,
   "metadata": {
    "collapsed": false
   },
   "outputs": [],
   "source": [
    "i=0\n",
    "column_names=[]\n",
    "for df in submissions:\n",
    "    column_name = 'Response_'+str(i)\n",
    "    column_names.append(column_name)\n",
    "    df.columns=['Id',column_name]\n",
    "    i = i+1\n",
    "    \n",
    "final_submission = submissions[0]\n",
    "for i in range(1,len(submissions)):\n",
    "    final_submission = pd.merge(final_submission,submissions[i], on='Id', how='outer')\n",
    "\n",
    "final_submission['Response'] = final_submission[column_names].mean(axis=1)\n",
    "final_submission['Response'] = final_submission['Response'].map(lambda x: int(1) if x>0 else int(0))\n",
    "final_submission= final_submission.drop(column_names,axis=1)\n",
    "\n",
    "with open('../submission.csv', 'a') as f:\n",
    "    final_submission.to_csv(f, header=True, index=False)"
   ]
  }
 ],
 "metadata": {
  "anaconda-cloud": {},
  "kernelspec": {
   "display_name": "Python [conda root]",
   "language": "python",
   "name": "conda-root-py"
  },
  "language_info": {
   "codemirror_mode": {
    "name": "ipython",
    "version": 3
   },
   "file_extension": ".py",
   "mimetype": "text/x-python",
   "name": "python",
   "nbconvert_exporter": "python",
   "pygments_lexer": "ipython3",
   "version": "3.5.2"
  }
 },
 "nbformat": 4,
 "nbformat_minor": 0
}
