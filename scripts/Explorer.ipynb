{
 "cells": [
  {
   "cell_type": "code",
   "execution_count": 1,
   "metadata": {
    "collapsed": true
   },
   "outputs": [],
   "source": [
    "import pandas as pd\n",
    "import numpy as np\n",
    "from sklearn.preprocessing import Imputer\n",
    "from sklearn.preprocessing import RobustScaler\n",
    "from sklearn.ensemble import RandomForestClassifier\n",
    "from IPython.display import clear_output\n",
    "import pickle\n",
    "import subprocess\n",
    "#common utilities for transforming data\n",
    "from commons import Utilities"
   ]
  },
  {
   "cell_type": "code",
   "execution_count": 2,
   "metadata": {
    "collapsed": true
   },
   "outputs": [],
   "source": [
    "DATA_DIR = \"../input\"\n",
    "\n",
    "ID_COLUMN = 'Id'\n",
    "TARGET_COLUMN = 'Response'\n",
    "CHUNKSIZE = 50000\n",
    "COLUMN_CHUNKSIZE = 40\n",
    "\n",
    "TRAIN_NUMERIC = \"{0}/train_numeric.csv\".format(DATA_DIR)\n",
    "TRAIN_DATE = \"{0}/train_date.csv\".format(DATA_DIR)\n",
    "\n",
    "TEST_NUMERIC = \"{0}/test_numeric.csv\".format(DATA_DIR)\n",
    "TEST_DATE = \"{0}/test_date.csv\".format(DATA_DIR)\n"
   ]
  },
  {
   "cell_type": "code",
   "execution_count": 3,
   "metadata": {
    "collapsed": true
   },
   "outputs": [],
   "source": [
    "#Make groups of columns. Number of columns in a group = COLUMN_CHUNKSIZE\n",
    "def chunks(l, n):\n",
    "    \"\"\"Yield successive n-sized chunks from l.\"\"\"\n",
    "    for i in range(0, len(l), n):\n",
    "        yield l[i:i + n]\n",
    "        \n",
    "\n",
    "#Read file columnwise by column groups, impute and scale data, then write to csv.\n",
    "#The output files will be merged by 'join.sh' shell script as it is more effective.\n",
    "def normalizer(column_groups, data_path,output_path):\n",
    "    i = 0\n",
    "    for column_group in column_groups:\n",
    "        #Adding Id to column group so the files can be easily merged\n",
    "        column_group = np.insert(column_group,0,'Id', axis=0)\n",
    "        print(\"Reading..\")\n",
    "        for tr,te in zip(pd.read_csv(TRAIN_NUMERIC, header=0,usecols=column_group),pd.read_csv(TEST_NUMERIC, header=0,usecols=column_group)):\n",
    "            idcol = tr[\"Id\"]\n",
    "        df = pd.read_csv(data_path, header=0,usecols=column_group)\n",
    "        idcol = tr[\"Id\"]\n",
    "        print(\"Imputing..\")\n",
    "        #Fill NaN cells with mean values\n",
    "        imp = Imputer(axis=0, copy=True, missing_values='NaN', strategy='median', verbose=0)\n",
    "        df[column_group] = imp.fit_transform(df[column_group])\n",
    "        #Scale column with robust scaler as it is better if the data contains outliers\n",
    "        scaler = RobustScaler()\n",
    "        df[column_group] = scaler.fit_transform(df[column_group])\n",
    "        df[\"Id\"] = idcol\n",
    "        #Write the transformed data to csv\n",
    "        path = output_path+'_'+str(i)+'.csv'\n",
    "        print(\"Writing to file: {0}\".format(path))\n",
    "        df.to_csv(path, header=True, index=False)\n",
    "        i = i + 1\n",
    "        clear_output()\n",
    "        print(\"{0} percent\".format(i/(total_columns/COLUMN_CHUNKSIZE)*100))\n",
    "    print(\"Finished\")\n",
    "    #subprocess.call('./joiner.sh')"
   ]
  },
  {
   "cell_type": "code",
   "execution_count": 1,
   "metadata": {
    "collapsed": false
   },
   "outputs": [
    {
     "ename": "NameError",
     "evalue": "name 'pd' is not defined",
     "output_type": "error",
     "traceback": [
      "\u001b[0;31m---------------------------------------------------------------------------\u001b[0m",
      "\u001b[0;31mNameError\u001b[0m                                 Traceback (most recent call last)",
      "\u001b[0;32m<ipython-input-1-2454508594a5>\u001b[0m in \u001b[0;36m<module>\u001b[0;34m()\u001b[0m\n\u001b[1;32m      1\u001b[0m \u001b[0;31m#Get column names and column count\u001b[0m\u001b[0;34m\u001b[0m\u001b[0;34m\u001b[0m\u001b[0m\n\u001b[0;32m----> 2\u001b[0;31m \u001b[0mdf\u001b[0m \u001b[0;34m=\u001b[0m \u001b[0mpd\u001b[0m\u001b[0;34m.\u001b[0m\u001b[0mread_csv\u001b[0m\u001b[0;34m(\u001b[0m\u001b[0mTRAIN_NUMERIC\u001b[0m\u001b[0;34m,\u001b[0m \u001b[0mnrows\u001b[0m\u001b[0;34m=\u001b[0m\u001b[0;36m1\u001b[0m\u001b[0;34m)\u001b[0m\u001b[0;34m\u001b[0m\u001b[0m\n\u001b[0m\u001b[1;32m      3\u001b[0m \u001b[0mdf\u001b[0m \u001b[0;34m=\u001b[0m \u001b[0mdf\u001b[0m\u001b[0;34m.\u001b[0m\u001b[0mdrop\u001b[0m\u001b[0;34m(\u001b[0m\u001b[0;34m[\u001b[0m\u001b[0mID_COLUMN\u001b[0m\u001b[0;34m,\u001b[0m\u001b[0mTARGET_COLUMN\u001b[0m\u001b[0;34m]\u001b[0m\u001b[0;34m,\u001b[0m\u001b[0maxis\u001b[0m \u001b[0;34m=\u001b[0m \u001b[0;36m1\u001b[0m\u001b[0;34m)\u001b[0m\u001b[0;34m\u001b[0m\u001b[0m\n\u001b[1;32m      4\u001b[0m \u001b[0mnumeric_columns\u001b[0m \u001b[0;34m=\u001b[0m \u001b[0mdf\u001b[0m\u001b[0;34m.\u001b[0m\u001b[0mcolumns\u001b[0m\u001b[0;34m.\u001b[0m\u001b[0mvalues\u001b[0m\u001b[0;34m\u001b[0m\u001b[0m\n\u001b[1;32m      5\u001b[0m \u001b[0mtotal_columns\u001b[0m \u001b[0;34m=\u001b[0m \u001b[0mlen\u001b[0m\u001b[0;34m(\u001b[0m\u001b[0mnumeric_columns\u001b[0m\u001b[0;34m)\u001b[0m\u001b[0;34m\u001b[0m\u001b[0m\n",
      "\u001b[0;31mNameError\u001b[0m: name 'pd' is not defined"
     ]
    }
   ],
   "source": [
    "#Get column names and column count\n",
    "df = pd.read_csv(TRAIN_NUMERIC, nrows=1)\n",
    "df = df.drop([ID_COLUMN,TARGET_COLUMN],axis = 1)\n",
    "numeric_columns = df.columns.values\n",
    "total_columns = len(numeric_columns)\n",
    "column_groups = list(chunks(numeric_columns,COLUMN_CHUNKSIZE))\n",
    "\n",
    "\n",
    "\n",
    "normalizer(column_groups,TRAIN_NUMERIC,'../workdir/train_num')"
   ]
  },
  {
   "cell_type": "code",
   "execution_count": 12,
   "metadata": {
    "collapsed": false
   },
   "outputs": [],
   "source": [
    "df = pd.read_csv(TRAIN_NUMERIC, header=0,usecols=[ID_COLUMN,TARGET_COLUMN])\n",
    "df.to_csv('../workdir/train_num_RESPONSE.csv', header=True, index=False)"
   ]
  },
  {
   "cell_type": "code",
   "execution_count": 6,
   "metadata": {
    "collapsed": false
   },
   "outputs": [
    {
     "name": "stdout",
     "output_type": "stream",
     "text": [
      "103.30578512396696 percent\n",
      "Finished\n"
     ]
    }
   ],
   "source": [
    "#Get column names and column count\n",
    "df_test = pd.read_csv(TEST_NUMERIC, nrows=1)\n",
    "df_test = df_test.drop(ID_COLUMN,axis = 1)\n",
    "numeric_columns = df_test.columns.values\n",
    "total_columns = len(numeric_columns)\n",
    "column_groups = list(chunks(numeric_columns,COLUMN_CHUNKSIZE))\n",
    "normalizer(column_groups,TEST_NUMERIC,'../workdir/test_num')"
   ]
  },
  {
   "cell_type": "code",
   "execution_count": 9,
   "metadata": {
    "collapsed": false
   },
   "outputs": [],
   "source": [
    "df = pd.read_csv('../input/train_num.csv', header=0,usecols=[ID_COLUMN])"
   ]
  },
  {
   "cell_type": "code",
   "execution_count": 10,
   "metadata": {
    "collapsed": false
   },
   "outputs": [
    {
     "data": {
      "text/html": [
       "<div>\n",
       "<table border=\"1\" class=\"dataframe\">\n",
       "  <thead>\n",
       "    <tr style=\"text-align: right;\">\n",
       "      <th></th>\n",
       "      <th>Id</th>\n",
       "    </tr>\n",
       "  </thead>\n",
       "  <tbody>\n",
       "    <tr>\n",
       "      <th>count</th>\n",
       "      <td>1.183747e+06</td>\n",
       "    </tr>\n",
       "    <tr>\n",
       "      <th>mean</th>\n",
       "      <td>1.184050e+06</td>\n",
       "    </tr>\n",
       "    <tr>\n",
       "      <th>std</th>\n",
       "      <td>6.834348e+05</td>\n",
       "    </tr>\n",
       "    <tr>\n",
       "      <th>min</th>\n",
       "      <td>4.000000e+00</td>\n",
       "    </tr>\n",
       "    <tr>\n",
       "      <th>25%</th>\n",
       "      <td>5.921385e+05</td>\n",
       "    </tr>\n",
       "    <tr>\n",
       "      <th>50%</th>\n",
       "      <td>1.184628e+06</td>\n",
       "    </tr>\n",
       "    <tr>\n",
       "      <th>75%</th>\n",
       "      <td>1.775674e+06</td>\n",
       "    </tr>\n",
       "    <tr>\n",
       "      <th>max</th>\n",
       "      <td>2.367495e+06</td>\n",
       "    </tr>\n",
       "  </tbody>\n",
       "</table>\n",
       "</div>"
      ],
      "text/plain": [
       "                 Id\n",
       "count  1.183747e+06\n",
       "mean   1.184050e+06\n",
       "std    6.834348e+05\n",
       "min    4.000000e+00\n",
       "25%    5.921385e+05\n",
       "50%    1.184628e+06\n",
       "75%    1.775674e+06\n",
       "max    2.367495e+06"
      ]
     },
     "execution_count": 10,
     "metadata": {},
     "output_type": "execute_result"
    }
   ],
   "source": [
    "df.describe()"
   ]
  }
 ],
 "metadata": {
  "anaconda-cloud": {},
  "kernelspec": {
   "display_name": "Python [conda root]",
   "language": "python",
   "name": "conda-root-py"
  },
  "language_info": {
   "codemirror_mode": {
    "name": "ipython",
    "version": 3
   },
   "file_extension": ".py",
   "mimetype": "text/x-python",
   "name": "python",
   "nbconvert_exporter": "python",
   "pygments_lexer": "ipython3",
   "version": "3.5.2"
  }
 },
 "nbformat": 4,
 "nbformat_minor": 1
}
