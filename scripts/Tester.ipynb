{
 "cells": [
  {
   "cell_type": "code",
   "execution_count": 1,
   "metadata": {
    "collapsed": true
   },
   "outputs": [],
   "source": [
    "import pandas as pd\n",
    "import numpy as np\n",
    "from sklearn.ensemble import RandomForestClassifier\n",
    "from IPython.display import clear_output\n",
    "import pickle\n",
    "\n",
    "#common utilities for transforming data\n",
    "from commons import Utilities\n",
    "utils = Utilities()"
   ]
  },
  {
   "cell_type": "code",
   "execution_count": 2,
   "metadata": {
    "collapsed": true
   },
   "outputs": [],
   "source": [
    "DATA_DIR = \"../input\"\n",
    "\n",
    "ID_COLUMN = 'Id'\n",
    "TARGET_COLUMN = 'Response'\n",
    "CHUNKSIZE = 50000\n",
    "\n",
    "TRAIN_NUMERIC = \"{0}/train_numeric.csv\".format(DATA_DIR)\n",
    "TRAIN_DATE = \"{0}/train_date.csv\".format(DATA_DIR)\n",
    "\n",
    "TEST_NUMERIC = \"{0}/test_numeric.csv\".format(DATA_DIR)\n",
    "TEST_DATE = \"{0}/test_date.csv\".format(DATA_DIR)\n"
   ]
  },
  {
   "cell_type": "code",
   "execution_count": 3,
   "metadata": {
    "collapsed": false
   },
   "outputs": [],
   "source": [
    "medians = pickle.load( open( \"../exported/medians.p\", \"rb\" ) )\n",
    "models = pickle.load( open( \"../exported/models.p\", \"rb\" ) )"
   ]
  },
  {
   "cell_type": "code",
   "execution_count": 7,
   "metadata": {
    "collapsed": false
   },
   "outputs": [
    {
     "name": "stdout",
     "output_type": "stream",
     "text": [
      "101 percent\n"
     ]
    }
   ],
   "source": [
    "#Predict and write to file\n",
    "\n",
    "submissions = []\n",
    "\n",
    "def process(df_test,firstChunk,models):\n",
    "    df_test = utils.normalize_data_w_medians(df_test,medians)\n",
    "    df_test['Id2'] = df_test[ID_COLUMN]\n",
    "    X_test = df_test.drop([ID_COLUMN],axis=1)\n",
    "    inputnames = X_test.columns.values\n",
    "    for model in models:\n",
    "        X_test['p_0']=0\n",
    "        X_test['p_1']=0\n",
    "        X_test[ ['p_0','p_1'] ]  = model.predict_proba(X_test[inputnames])\n",
    "        submission = pd.DataFrame({\n",
    "            \"Id\":df_test[ID_COLUMN],\n",
    "            \"Response\":X_test[\"p_1\"]\n",
    "        })\n",
    "        sub_index=models.index(model)\n",
    "        print(sub_index/len(models)*100)\n",
    "        if(firstChunk):\n",
    "            submissions.append(submission)\n",
    "        else:\n",
    "            submissions[sub_index]=pd.concat([submissions[sub_index],submission])\n",
    "\n",
    "print(\"Evaluating test data...\")\n",
    "        \n",
    "chunknum = 0\n",
    "for chunk in pd.read_csv(TEST_NUMERIC, chunksize=CHUNKSIZE):\n",
    "    process(chunk, chunknum == 0,models)\n",
    "    chunknum = chunknum +1\n",
    "    clear_output()\n",
    "    print(\"%d percent\" % int((chunknum*CHUNKSIZE/1183748)*100))"
   ]
  },
  {
   "cell_type": "code",
   "execution_count": 8,
   "metadata": {
    "collapsed": true
   },
   "outputs": [],
   "source": [
    "pickle.dump( submissions, open( \"../exported/submissions.p\", \"wb\" ) )"
   ]
  },
  {
   "cell_type": "code",
   "execution_count": 12,
   "metadata": {
    "collapsed": true
   },
   "outputs": [],
   "source": [
    "i=0\n",
    "column_names=[]\n",
    "for df in submissions:\n",
    "    column_name = TARGET_COLUMN+'_'+str(i)\n",
    "    column_names.append(column_name)\n",
    "    df.columns=[ID_COLUMN,column_name]\n",
    "    i = i+1\n",
    "    \n",
    "final_submission = submissions[0]\n",
    "for i in range(1,len(submissions)):\n",
    "    final_submission = pd.merge(final_submission,submissions[i], on=ID_COLUMN, how='outer')\n",
    "\n",
    "final_submission[TARGET_COLUMN] = final_submission[column_names].mean(axis=1)\n",
    "final_submission[TARGET_COLUMN] = final_submission[TARGET_COLUMN].map(lambda x: int(1) if x>0.4 else int(0))\n",
    "final_submission= final_submission.drop(column_names,axis=1)\n",
    "\n",
    "with open('../submission.csv', 'a') as f:\n",
    "    final_submission.to_csv(f, header=True, index=False)"
   ]
  }
 ],
 "metadata": {
  "anaconda-cloud": {},
  "kernelspec": {
   "display_name": "Python [Root]",
   "language": "python",
   "name": "Python [Root]"
  },
  "language_info": {
   "codemirror_mode": {
    "name": "ipython",
    "version": 3
   },
   "file_extension": ".py",
   "mimetype": "text/x-python",
   "name": "python",
   "nbconvert_exporter": "python",
   "pygments_lexer": "ipython3",
   "version": "3.5.2"
  }
 },
 "nbformat": 4,
 "nbformat_minor": 1
}
