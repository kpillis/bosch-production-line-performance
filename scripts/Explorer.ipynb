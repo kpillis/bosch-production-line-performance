{
 "cells": [
  {
   "cell_type": "code",
   "execution_count": 1,
   "metadata": {
    "collapsed": true,
    "nbpresent": {
     "id": "d52c0dfd-2c8a-4f8b-a302-69e472329050"
    }
   },
   "outputs": [],
   "source": [
    "import pandas as pd\n",
    "import numpy as np\n",
    "from sklearn.preprocessing import Imputer\n",
    "from sklearn.preprocessing import RobustScaler\n",
    "from sklearn.ensemble import RandomForestClassifier\n",
    "from IPython.display import clear_output\n",
    "import pickle\n",
    "import subprocess"
   ]
  },
  {
   "cell_type": "code",
   "execution_count": 2,
   "metadata": {
    "collapsed": true,
    "nbpresent": {
     "id": "b5b9012f-6963-4f7a-b350-c2f03f1d2d56"
    }
   },
   "outputs": [],
   "source": [
    "DATA_DIR = \"../input\"\n",
    "\n",
    "ID_COLUMN = 'Id'\n",
    "TARGET_COLUMN = 'Response'\n",
    "COLUMN_CHUNKSIZE = 20\n",
    "\n",
    "TRAIN_NUMERIC = \"{0}/train_numeric.csv\".format(DATA_DIR)\n",
    "TRAIN_DATE = \"{0}/train_date.csv\".format(DATA_DIR)\n",
    "\n",
    "TEST_NUMERIC = \"{0}/test_numeric.csv\".format(DATA_DIR)\n",
    "TEST_DATE = \"{0}/test_date.csv\".format(DATA_DIR)\n"
   ]
  },
  {
   "cell_type": "code",
   "execution_count": 3,
   "metadata": {
    "collapsed": false,
    "nbpresent": {
     "id": "0f1dc4c5-399d-4af2-84a6-1404a0fe0a7c"
    }
   },
   "outputs": [],
   "source": [
    "#Make groups of columns. Number of columns in a group = COLUMN_CHUNKSIZE\n",
    "def chunks(l, n):\n",
    "    \"\"\"Yield successive n-sized chunks from l.\"\"\"\n",
    "    for i in range(0, len(l), n):\n",
    "        yield l[i:i + n]"
   ]
  },
  {
   "cell_type": "code",
   "execution_count": null,
   "metadata": {
    "collapsed": false,
    "nbpresent": {
     "id": "c85cdb43-7fed-44a2-9140-78abfa5cb742"
    }
   },
   "outputs": [
    {
     "name": "stdout",
     "output_type": "stream",
     "text": [
      "101.2396694214876 percent\n",
      "Finished\n"
     ]
    }
   ],
   "source": [
    "#Get column names and column count\n",
    "df = pd.read_csv(TRAIN_NUMERIC, nrows=1)\n",
    "df = df.drop([ID_COLUMN,TARGET_COLUMN],axis = 1)\n",
    "numeric_columns = df.columns.values\n",
    "total_columns = len(numeric_columns)\n",
    "column_groups = list(chunks(numeric_columns,COLUMN_CHUNKSIZE))\n",
    "\n",
    "#Read file columnwise by column groups, impute and scale data, then write to csv.\n",
    "#The output files will be merged by 'join.sh' shell script as it is more effective.\n",
    "i = 0\n",
    "for column_group in column_groups:\n",
    "\n",
    "    #Adding Id to column group so the files can be easily merged\n",
    "    column_group = np.insert(column_group,0,ID_COLUMN, axis=0)\n",
    "    print(column_group)\n",
    "    print(\"Reading..\")\n",
    "    tr = pd.read_csv(TRAIN_NUMERIC, header=0,usecols=column_group)\n",
    "    te = pd.read_csv(TEST_NUMERIC, header=0,usecols=column_group)\n",
    "    \n",
    "    #Preserve ids\n",
    "    tr_id = tr[ID_COLUMN]\n",
    "    te_id = te[ID_COLUMN]\n",
    "    print(\"Imputing..\")\n",
    "        \n",
    "    #Fill NaN cells with median values\n",
    "    imp = Imputer(axis=0, copy=True, missing_values='NaN', strategy='median', verbose=0)\n",
    "    tr[column_group] = imp.fit_transform(tr[column_group])\n",
    "    te[column_group] = imp.transform(te[column_group])\n",
    "        \n",
    "    #Scale column with robust scaler as it is better if the data contains outliers\n",
    "    scaler = RobustScaler()\n",
    "    tr[column_group] = scaler.fit_transform(tr[column_group])\n",
    "    te[column_group] = scaler.transform(te[column_group])\n",
    "        \n",
    "    #Set Ids \n",
    "    tr[ID_COLUMN] = tr_id\n",
    "    te[ID_COLUMN] = te_id\n",
    "        \n",
    "    #Write the transformed data to csv\n",
    "    path = '_'+str(i)+'.csv'            \n",
    "    print(\"Writing to file: {0}\".format(path))\n",
    "    tr.to_csv('../workdir/train_num'+ path, header=True, index=False)\n",
    "    te.to_csv('../workdir/test_num'+ path, header = True, index = False)            \n",
    "    i = i + 1\n",
    "    clear_output()\n",
    "    print(\"{0} percent\".format(i/(total_columns/COLUMN_CHUNKSIZE)*100))\n",
    "print(\"Finished\")"
   ]
  },
  {
   "cell_type": "code",
   "execution_count": null,
   "metadata": {
    "collapsed": false,
    "nbpresent": {
     "id": "f67e2c39-bfa1-4c0e-a15d-980e35c1baaf"
    }
   },
   "outputs": [],
   "source": [
    "df = pd.read_csv(TRAIN_NUMERIC, header=0,usecols=[ID_COLUMN,TARGET_COLUMN])\n",
    "df.to_csv('../workdir/train_num_RESPONSE.csv', header=True, index=False)\n",
    "subprocess.call('./joiner.sh')\n",
    "subprocess.call('./joiner2.sh')"
   ]
  }
 ],
 "metadata": {
  "anaconda-cloud": {},
  "kernelspec": {
   "display_name": "Python [conda root]",
   "language": "python",
   "name": "conda-root-py"
  },
  "language_info": {
   "codemirror_mode": {
    "name": "ipython",
    "version": 3
   },
   "file_extension": ".py",
   "mimetype": "text/x-python",
   "name": "python",
   "nbconvert_exporter": "python",
   "pygments_lexer": "ipython3",
   "version": "3.5.2"
  },
  "nbpresent": {
   "slides": {},
   "themes": {}
  }
 },
 "nbformat": 4,
 "nbformat_minor": 1
}
