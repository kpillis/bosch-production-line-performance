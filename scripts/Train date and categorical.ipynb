{
 "cells": [
  {
   "cell_type": "code",
   "execution_count": null,
   "metadata": {
    "collapsed": false
   },
   "outputs": [],
   "source": [
    "'''filename='../input/train_date.csv'\n",
    "chunknum = 0\n",
    "for chunk in pd.read_csv(filename, header=0, chunksize=200000):\n",
    "    chunk = convertToBinary(chunk)\n",
    "    with open('../train_date_bin.csv', 'a') as f:\n",
    "        if(chunknum == 0):\n",
    "            chunk.to_csv(f, header=True, index=False)\n",
    "        else:\n",
    "            chunk.to_csv(f, header=False, index=False)\n",
    "    chunknum = chunknum +1\n",
    "    clear_output()\n",
    "    print(\"%d percent\" % int((chunknum*100000/1183748)*100))\n",
    "'''"
   ]
  },
  {
   "cell_type": "code",
   "execution_count": null,
   "metadata": {
    "collapsed": false
   },
   "outputs": [],
   "source": [
    "'''\n",
    "filename='../input/train_categorical.csv'\n",
    "chunknum = 1\n",
    "columns = set()\n",
    "for chunk in pd.read_csv(filename, header=0, chunksize=10000):\n",
    "    for column in chunk.drop(['Id'],axis=1):\n",
    "        uniqueVals = chunk[column].dropna().unique()\n",
    "        for val in uniqueVals:\n",
    "            columns.add(val)\n",
    "    print(\"%d percent\" % int((chunknum*10000/1183748)*100))\n",
    "    chunknum = chunknum +1\n",
    "columns\n",
    "'''"
   ]
  }
 ],
 "metadata": {
  "anaconda-cloud": {},
  "kernelspec": {
   "display_name": "Python [conda root]",
   "language": "python",
   "name": "conda-root-py"
  },
  "language_info": {
   "codemirror_mode": {
    "name": "ipython",
    "version": 3
   },
   "file_extension": ".py",
   "mimetype": "text/x-python",
   "name": "python",
   "nbconvert_exporter": "python",
   "pygments_lexer": "ipython3",
   "version": "3.5.2"
  }
 },
 "nbformat": 4,
 "nbformat_minor": 0
}
