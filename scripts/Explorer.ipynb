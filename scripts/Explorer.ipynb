{
 "cells": [
  {
   "cell_type": "code",
   "execution_count": 1,
   "metadata": {
    "collapsed": true
   },
   "outputs": [],
   "source": [
    "import pandas as pd\n",
    "import numpy as np\n",
    "from sklearn.preprocessing import Imputer\n",
    "from sklearn.preprocessing import RobustScaler\n",
    "from sklearn.ensemble import RandomForestClassifier\n",
    "from IPython.display import clear_output\n",
    "import pickle\n",
    "\n",
    "#common utilities for transforming data\n",
    "from commons import Utilities"
   ]
  },
  {
   "cell_type": "code",
   "execution_count": 2,
   "metadata": {
    "collapsed": true
   },
   "outputs": [],
   "source": [
    "DATA_DIR = \"../input\"\n",
    "\n",
    "ID_COLUMN = 'Id'\n",
    "TARGET_COLUMN = 'Response'\n",
    "CHUNKSIZE = 50000\n",
    "COLUMN_CHUNKSIZE = 40\n",
    "\n",
    "TRAIN_NUMERIC = \"{0}/train_numeric.csv\".format(DATA_DIR)\n",
    "TRAIN_DATE = \"{0}/train_date.csv\".format(DATA_DIR)\n",
    "\n",
    "TEST_NUMERIC = \"{0}/test_numeric.csv\".format(DATA_DIR)\n",
    "TEST_DATE = \"{0}/test_date.csv\".format(DATA_DIR)\n"
   ]
  },
  {
   "cell_type": "code",
   "execution_count": 3,
   "metadata": {
    "collapsed": false
   },
   "outputs": [],
   "source": [
    "#Get column names and column count\n",
    "df = pd.read_csv(TRAIN_NUMERIC, nrows=1)\n",
    "df = df.drop(ID_COLUMN,axis = 1)\n",
    "numeric_columns = df.columns.values\n",
    "total_columns = len(numeric_columns)"
   ]
  },
  {
   "cell_type": "code",
   "execution_count": 4,
   "metadata": {
    "collapsed": false
   },
   "outputs": [],
   "source": [
    "#Make groups of columns. Number of columns in a group = COLUMN_CHUNKSIZE\n",
    "def chunks(l, n):\n",
    "    \"\"\"Yield successive n-sized chunks from l.\"\"\"\n",
    "    for i in range(0, len(l), n):\n",
    "        yield l[i:i + n]\n",
    "        \n",
    "column_groups = list(chunks(numeric_columns,COLUMN_CHUNKSIZE))"
   ]
  },
  {
   "cell_type": "code",
   "execution_count": null,
   "metadata": {
    "collapsed": false
   },
   "outputs": [
    {
     "name": "stdout",
     "output_type": "stream",
     "text": [
      "Reading..\n",
      "Imputing..\n",
      "Writing to file: ../train_num_0.csv\n"
     ]
    }
   ],
   "source": [
    "#Read file columnwise by column groups, impute and scale data, then write to csv.\n",
    "#The output files will be merged by 'join.sh' shell script as it is more effective.\n",
    "i = 0\n",
    "for column_group in column_groups:\n",
    "    #Adding Id to column group so the files can be easily merged\n",
    "    column_group = np.insert(column_group,0,'Id', axis=0)\n",
    "    print(\"Reading..\")\n",
    "    df = pd.read_csv(TRAIN_NUMERIC, header=0,usecols=column_group)\n",
    "    print(\"Imputing..\")\n",
    "    #Fill NaN cells with mean values\n",
    "    imp = Imputer(axis=0, copy=True, missing_values='NaN', strategy='mean', verbose=0)\n",
    "    df[column_group] = imp.fit_transform(df[column_group])\n",
    "    #Scale column with robust scaler as it is better if the data contains outliers\n",
    "    scaler = RobustScaler()\n",
    "    df[column_group] = scaler.fit_transform(df[column_group])\n",
    "    #Write the transformed data to csv\n",
    "    path = '../train_num_'+str(i)+'.csv'\n",
    "    print(\"Writing to file: {0}\".format(path))\n",
    "    df.to_csv(path, header=True, index=False)\n",
    "    i = i + 1\n",
    "    clear_output()\n",
    "    print(\"{0} percent\".format(i/(total_columns/COLUMN_CHUNKSIZE)*100))\n",
    "print(\"Finished\")"
   ]
  }
 ],
 "metadata": {
  "anaconda-cloud": {},
  "kernelspec": {
   "display_name": "Python [conda root]",
   "language": "python",
   "name": "conda-root-py"
  },
  "language_info": {
   "codemirror_mode": {
    "name": "ipython",
    "version": 3
   },
   "file_extension": ".py",
   "mimetype": "text/x-python",
   "name": "python",
   "nbconvert_exporter": "python",
   "pygments_lexer": "ipython3",
   "version": "3.5.2"
  }
 },
 "nbformat": 4,
 "nbformat_minor": 1
}
