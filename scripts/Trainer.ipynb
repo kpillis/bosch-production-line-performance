{
 "cells": [
  {
   "cell_type": "code",
   "execution_count": 1,
   "metadata": {
    "collapsed": false
   },
   "outputs": [],
   "source": [
    "import pandas as pd\n",
    "import numpy as np\n",
    "from sklearn.ensemble import RandomForestClassifier\n",
    "from IPython.display import clear_output\n",
    "import pickle\n",
    "\n",
    "#common utilities for transforming data\n",
    "from commons import Utilities"
   ]
  },
  {
   "cell_type": "code",
   "execution_count": 2,
   "metadata": {
    "collapsed": true
   },
   "outputs": [],
   "source": [
    "DATA_DIR = \"../input\"\n",
    "\n",
    "ID_COLUMN = 'Id'\n",
    "TARGET_COLUMN = 'Response'\n",
    "CHUNKSIZE = 180000\n",
    "\n",
    "TRAIN_NUMERIC = \"{0}/train_num.csv\".format(DATA_DIR)\n",
    "TRAIN_DATE = \"{0}/train_date.csv\".format(DATA_DIR)\n",
    "\n",
    "TEST_NUMERIC = \"{0}/test_numeric.csv\".format(DATA_DIR)\n",
    "TEST_DATE = \"{0}/test_date.csv\".format(DATA_DIR)\n"
   ]
  },
  {
   "cell_type": "code",
   "execution_count": 4,
   "metadata": {
    "collapsed": false
   },
   "outputs": [
    {
     "name": "stdout",
     "output_type": "stream",
     "text": [
      "106 percent\n"
     ]
    }
   ],
   "source": [
    "#Train\n",
    "models=[]\n",
    "\n",
    "print(\"Reading train data into memory in chunks...\")\n",
    "chunknum = 0\n",
    "for chunk in pd.read_csv(TRAIN_NUMERIC, chunksize=CHUNKSIZE):\n",
    "    chunk['Id2'] = chunk[ID_COLUMN] \n",
    "    print(\"Preparing data for training...\")\n",
    "    X = chunk.drop([ID_COLUMN,TARGET_COLUMN],axis=1)\n",
    "    y = chunk[TARGET_COLUMN]\n",
    "    \n",
    "    # Random Forests \n",
    "    model = RandomForestClassifier(n_estimators=100)\n",
    "    print(\"Training...\")\n",
    "    model.fit(X,y)\n",
    "    models.append(model)\n",
    "    chunknum = chunknum +1\n",
    "    clear_output()\n",
    "    print(\"%d percent\" % int((chunknum*CHUNKSIZE/1183748)*100))\n",
    "pickle.dump( models, open( \"../exported/models.p\", \"wb\" ) )"
   ]
  }
 ],
 "metadata": {
  "anaconda-cloud": {},
  "kernelspec": {
   "display_name": "Python [conda root]",
   "language": "python",
   "name": "conda-root-py"
  },
  "language_info": {
   "codemirror_mode": {
    "name": "ipython",
    "version": 3
   },
   "file_extension": ".py",
   "mimetype": "text/x-python",
   "name": "python",
   "nbconvert_exporter": "python",
   "pygments_lexer": "ipython3",
   "version": "3.5.2"
  }
 },
 "nbformat": 4,
 "nbformat_minor": 1
}
